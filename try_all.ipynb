{
 "cells": [
  {
   "cell_type": "code",
   "execution_count": 1,
   "id": "166d3eec",
   "metadata": {},
   "outputs": [],
   "source": [
    "import cert.cert\n",
    "import cert.cert.util\n",
    "import cert.cert.ser\n",
    "import cert.serve\n",
    "from cryptography import x509\n",
    "import itertools\n",
    "from pathlib import Path\n",
    "from urllib.parse import quote\n",
    "import webbrowser\n",
    "import json"
   ]
  },
  {
   "cell_type": "code",
   "execution_count": 3,
   "id": "50d26f4b",
   "metadata": {},
   "outputs": [],
   "source": [
    "# generate keys\n",
    "certs: dict[int, tuple[Path, bytes]] = dict()\n",
    "\n",
    "cn = cert.cert.simple_common_name(\"127.0.0.1\")\n",
    "priv_key = cert.cert.make_private_key()\n",
    "\n",
    "local_dir = Path.cwd() / \"local\"\n",
    "\n",
    "priv_key_path = local_dir / \"experiment.key\"\n",
    "priv_key_path.write_bytes(cert.cert.ser.serialize_private(priv_key))\n",
    "\n",
    "for i, args in enumerate(itertools.product((True, False), repeat=9)):\n",
    "    try:\n",
    "        restrictions = x509.KeyUsage(*args)\n",
    "        rest_rep = repr(restrictions).encode()\n",
    "    except ValueError:\n",
    "        continue\n",
    "\n",
    "    leaf_cert = cert.cert.sign_builder(\n",
    "        cert.cert.CertBuilderArgs(\n",
    "            subject=cn, issuer=cn, public_key=priv_key.public_key()\n",
    "        ).make_builder(),\n",
    "        priv_key,\n",
    "    )\n",
    "\n",
    "    cert_path = local_dir / f\"{i}.pem\"\n",
    "    cert_path.write_bytes(cert.cert.ser.serialize_public_cert(leaf_cert))\n",
    "\n",
    "    certs[i] = cert_path, rest_rep"
   ]
  },
  {
   "cell_type": "code",
   "execution_count": 5,
   "id": "748343aa",
   "metadata": {},
   "outputs": [],
   "source": [
    "# certs_n_servers: dict[int, tuple[bytes, cert.serve.Server]] = dict()\n",
    "successes = list()\n",
    "failures = list()"
   ]
  },
  {
   "cell_type": "code",
   "execution_count": 6,
   "id": "be076415",
   "metadata": {},
   "outputs": [
    {
     "ename": "TypeError",
     "evalue": "'NoneType' object is not callable",
     "output_type": "error",
     "traceback": [
      "\u001b[0;31m---------------------------------------------------------------------------\u001b[0m",
      "\u001b[0;31mTypeError\u001b[0m                                 Traceback (most recent call last)",
      "Cell \u001b[0;32mIn [6], line 22\u001b[0m\n\u001b[1;32m     11\u001b[0m     res \u001b[38;5;241m=\u001b[39m \u001b[38;5;28minput\u001b[39m(\u001b[38;5;124m\"\u001b[39m\u001b[38;5;124msuccess? \u001b[39m\u001b[38;5;124m\"\u001b[39m)\n\u001b[1;32m     12\u001b[0m     \u001b[38;5;28;01mmatch\u001b[39;00m res:\n\u001b[1;32m     13\u001b[0m         \u001b[38;5;28;01mcase\u001b[39;00m \u001b[38;5;124m\"\u001b[39m\u001b[38;5;124my\u001b[39m\u001b[38;5;124m\"\u001b[39m:\n\u001b[1;32m     14\u001b[0m             successes\u001b[38;5;241m.\u001b[39mappend(rest_rep)\n\u001b[0;32m   (...)\u001b[0m\n\u001b[1;32m     19\u001b[0m         \u001b[38;5;28;01mcase\u001b[39;00m \u001b[38;5;28;01m_\u001b[39;00m:\n\u001b[1;32m     20\u001b[0m             \u001b[38;5;28mprint\u001b[39m(\u001b[38;5;124m\"\u001b[39m\u001b[38;5;124mhuh?\u001b[39m\u001b[38;5;124m\"\u001b[39m)\n\u001b[0;32m---> 22\u001b[0m \u001b[43mserver\u001b[49m\u001b[38;5;241;43m.\u001b[39;49m\u001b[43mstop\u001b[49m\u001b[43m(\u001b[49m\u001b[43m)\u001b[49m\n",
      "\u001b[0;31mTypeError\u001b[0m: 'NoneType' object is not callable"
     ]
    }
   ],
   "source": [
    "for i, (cert_path, rest_rep) in certs.items():\n",
    "    server = cert.serve.serve(priv_key_path, cert_path, rest_rep)\n",
    "\n",
    "    server.start()\n",
    "\n",
    "    url = server.url() + \"/\" + quote(rest_rep)\n",
    "\n",
    "    webbrowser.open(url, autoraise=False)\n",
    "\n",
    "    while True:\n",
    "        res = input(\"success? \")\n",
    "        match res:\n",
    "            case \"y\":\n",
    "                successes.append(rest_rep)\n",
    "                break\n",
    "            case \"n\":\n",
    "                failures.append(rest_rep)\n",
    "                break\n",
    "            case _:\n",
    "                print(\"huh?\")\n",
    "\n",
    "    server.stop()\n"
   ]
  }
 ],
 "metadata": {
  "kernelspec": {
   "display_name": "Python 3.10.5 ('.venv': venv)",
   "language": "python",
   "name": "python3"
  },
  "language_info": {
   "codemirror_mode": {
    "name": "ipython",
    "version": 3
   },
   "file_extension": ".py",
   "mimetype": "text/x-python",
   "name": "python",
   "nbconvert_exporter": "python",
   "pygments_lexer": "ipython3",
   "version": "3.10.5"
  },
  "vscode": {
   "interpreter": {
    "hash": "58e9392aea11a089494b2a4fa84aafa54b4d91e1389747188b7f4f5f2bbc361b"
   }
  }
 },
 "nbformat": 4,
 "nbformat_minor": 5
}
